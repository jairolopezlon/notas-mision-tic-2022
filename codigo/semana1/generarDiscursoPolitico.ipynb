{
  "nbformat": 4,
  "nbformat_minor": 0,
  "metadata": {
    "colab": {
      "name": "generarDiscursoPolitico.ipynb",
      "provenance": [],
      "authorship_tag": "ABX9TyOYDs45QNqH4ITuOwWij1vv",
      "include_colab_link": true
    },
    "kernelspec": {
      "name": "python3",
      "display_name": "Python 3"
    }
  },
  "cells": [
    {
      "cell_type": "markdown",
      "metadata": {
        "id": "view-in-github",
        "colab_type": "text"
      },
      "source": [
        "<a href=\"https://colab.research.google.com/github/jairolopezlon/notas-mision-tic-2022/blob/master/codigo/semana1/generarDiscursoPolitico.ipynb\" target=\"_parent\"><img src=\"https://colab.research.google.com/assets/colab-badge.svg\" alt=\"Open In Colab\"/></a>"
      ]
    },
    {
      "cell_type": "code",
      "metadata": {
        "id": "0P2uDUvhnCsP",
        "colab_type": "code",
        "colab": {
          "base_uri": "https://localhost:8080/",
          "height": 34
        },
        "outputId": "4ea25b4d-5fa9-4170-f92a-fa997f92e041"
      },
      "source": [
        "import random\n",
        "\n",
        "labetazo = ['QUERIDOS','APRECIADOS','DISTINGUIDOS','HONORABLES','ESTIMADOS','RESPETADOS']\n",
        "marrano = ['COMPATRIOTAS','CONCIUDADANOS','AMIGOS','COTERRANEOS','COPARTIDARIOS','ELECTORES']\n",
        "condicion = ['EN MI GOBIERNO','CON SU APOYO','SIENDO ELEGIDO','CON SU AYUDA','SI ME SIGUEN','DURANTE MI MANDATO']\n",
        "compromiso = ['COMBATIRÉ','LUCHARÉ CONTRA','ACABARÉ','ELIMINARÉ','VENCERÉ','VOY A DERROTAR']\n",
        "ilusion = ['LA VIOLENCIA Y','LA DELINCUENCIA Y','LA CORRUPCIÓN Y','LA INFLACIÓN Y','LA POBREZA Y','EL DESPLAZAMIENTO Y']\n",
        "promesa = ['DEFENDERÉ','PROMOVERÉ','VELARÉ POR','PROTEGERÉ','GARANTIZARÉ','TRABAJARÉ POR']\n",
        "beneficio = ['LA EDUCACIÓN','EL EMPLEO','LA SEGURIDAD','LA LAZ','LA IGUALDAD','LA SALUD']\n",
        "cantidad_votos = ['DE LA COMUNIDAD','DE LA CIUDAD','DEL PAÍS','DE LA POBLACIÓN','PARA TODA LA GENTE','DE CADA COLOMBIANO']\n",
        "\n",
        "labetazo_select = random.choice(labetazo)\n",
        "marrano_select = random.choice(marrano)\n",
        "condicion_select = random.choice(condicion)\n",
        "compromiso_select = random.choice(compromiso)\n",
        "ilusion_select = random.choice(ilusion)\n",
        "promesa_select = random.choice(promesa)\n",
        "beneficio_select = random.choice(beneficio)\n",
        "cantidad_votos_select = random.choice(cantidad_votos)\n",
        "\n",
        "print(f'El discurso resultante es: {labetazo_select} {marrano_select} {condicion_select} {compromiso_select} {ilusion_select} {promesa_select} {beneficio_select} {cantidad_votos_select}')"
      ],
      "execution_count": 1,
      "outputs": [
        {
          "output_type": "stream",
          "text": [
            "El discurso resultante es: APRECIADOS COPARTIDARIOS CON SU APOYO VENCERÉ LA DELINCUENCIA Y VELARÉ POR LA LAZ PARA TODA LA GENTE\n"
          ],
          "name": "stdout"
        }
      ]
    }
  ]
}