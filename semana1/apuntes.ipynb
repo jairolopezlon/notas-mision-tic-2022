{
  "nbformat": 4,
  "nbformat_minor": 0,
  "metadata": {
    "colab": {
      "name": "Untitled0.ipynb",
      "provenance": [],
      "authorship_tag": "ABX9TyOPqTvreI2LrVd5wHgwKswK",
      "include_colab_link": true
    },
    "kernelspec": {
      "name": "python3",
      "display_name": "Python 3"
    }
  },
  "cells": [
    {
      "cell_type": "markdown",
      "metadata": {
        "id": "view-in-github",
        "colab_type": "text"
      },
      "source": [
        "<a href=\"https://colab.research.google.com/github/jairolopezlon/notas-mision-tic-2022/blob/master/semana1/apuntes.ipynb\" target=\"_parent\"><img src=\"https://colab.research.google.com/assets/colab-badge.svg\" alt=\"Open In Colab\"/></a>"
      ]
    },
    {
      "cell_type": "code",
      "metadata": {
        "id": "DLrP3Lhmj8bQ",
        "colab_type": "code",
        "colab": {
          "base_uri": "https://localhost:8080/",
          "height": 51
        },
        "outputId": "8be7c817-11d6-4242-bbd3-f92a40f426bd"
      },
      "source": [
        "num = \"32\"\n",
        "print(num * 3) # imprime 32, pero como texto\n",
        "print(int(num) * 3) # imprime 32, pero como numero"
      ],
      "execution_count": 1,
      "outputs": [
        {
          "output_type": "stream",
          "text": [
            "323232\n",
            "96\n"
          ],
          "name": "stdout"
        }
      ]
    }
  ]
}